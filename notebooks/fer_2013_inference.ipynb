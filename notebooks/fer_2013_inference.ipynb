{
 "cells": [
  {
   "cell_type": "markdown",
   "id": "cosmetic-builder",
   "metadata": {},
   "source": [
    "Performing this in a notebook due to tensorflow weirdly not detecting GPU outside of an IPython environment."
   ]
  },
  {
   "cell_type": "code",
   "execution_count": 5,
   "id": "hundred-instrument",
   "metadata": {},
   "outputs": [],
   "source": [
    "!export LD_LIBRARY_PATH=/usr/local/cuda/lib64:$LD_LIBRARY_PATH"
   ]
  },
  {
   "cell_type": "code",
   "execution_count": 16,
   "id": "built-logan",
   "metadata": {},
   "outputs": [],
   "source": [
    "from fer import FER\n",
    "import cv2\n",
    "import pprint\n",
    "import tensorflow as tf\n",
    "import numpy as np\n",
    "import pandas as pd"
   ]
  },
  {
   "cell_type": "code",
   "execution_count": 52,
   "id": "disturbed-utility",
   "metadata": {},
   "outputs": [],
   "source": [
    "from pathlib import Path\n",
    "from typing import List\n",
    "from tqdm import tqdm"
   ]
  },
  {
   "cell_type": "code",
   "execution_count": 6,
   "id": "verified-newfoundland",
   "metadata": {},
   "outputs": [],
   "source": [
    "gpus = tf.config.experimental.list_physical_devices('GPU')"
   ]
  },
  {
   "cell_type": "markdown",
   "id": "threaded-transsexual",
   "metadata": {},
   "source": [
    "Emotion example:\n",
    "```\n",
    "{'angry': 0.0,\n",
    " 'disgust': 0.0,\n",
    " 'fear': 0.0,\n",
    " 'happy': 0.99,\n",
    " 'sad': 0.0,\n",
    " 'surprise': 0.0,\n",
    " 'neutral': 0.0}\n",
    "```"
   ]
  },
  {
   "cell_type": "code",
   "execution_count": 33,
   "id": "intelligent-instruction",
   "metadata": {},
   "outputs": [
    {
     "data": {
      "text/plain": [
       "('happy', 0.99)"
      ]
     },
     "execution_count": 33,
     "metadata": {},
     "output_type": "execute_result"
    }
   ],
   "source": [
    "detector.top_emotion(img)"
   ]
  },
  {
   "cell_type": "code",
   "execution_count": 37,
   "id": "agricultural-discrimination",
   "metadata": {},
   "outputs": [],
   "source": [
    "PROCESSED_DATA_BASE_PATH = Path('../data/processed')\n",
    "ATTRIBUTE_CSV_PATH =  PROCESSED_DATA_BASE_PATH / 'attributes.csv'\n",
    "IMAGE_BASE_PATH = PROCESSED_DATA_BASE_PATH / 'images'"
   ]
  },
  {
   "cell_type": "code",
   "execution_count": 42,
   "id": "sunset-organization",
   "metadata": {},
   "outputs": [],
   "source": [
    "attributes = pd.read_csv(ATTRIBUTE_CSV_PATH)\n",
    "filenames = attributes['filename']"
   ]
  },
  {
   "cell_type": "code",
   "execution_count": 61,
   "id": "comprehensive-equation",
   "metadata": {
    "tags": []
   },
   "outputs": [],
   "source": [
    "detector = FER(mtcnn=True, )"
   ]
  },
  {
   "cell_type": "code",
   "execution_count": 62,
   "id": "pediatric-bradley",
   "metadata": {},
   "outputs": [
    {
     "name": "stderr",
     "output_type": "stream",
     "text": [
      "  0%|                                                   | 0/248 [00:00<?, ?it/s]"
     ]
    },
    {
     "name": "stdout",
     "output_type": "stream",
     "text": [
      "WARNING:tensorflow:5 out of the last 5 calls to <function Model.make_predict_function.<locals>.predict_function at 0x7ffa6446e430> triggered tf.function retracing. Tracing is expensive and the excessive number of tracings is likely due to passing python objects instead of tensors. Also, tf.function has experimental_relax_shapes=True option that relaxes argument shapes that can avoid unnecessary retracing. Please refer to https://www.tensorflow.org/tutorials/customization/performance#python_or_tensor_args and https://www.tensorflow.org/api_docs/python/tf/function for more details.\n"
     ]
    },
    {
     "name": "stderr",
     "output_type": "stream",
     "text": [
      "WARNING:tensorflow:5 out of the last 5 calls to <function Model.make_predict_function.<locals>.predict_function at 0x7ffa6446e430> triggered tf.function retracing. Tracing is expensive and the excessive number of tracings is likely due to passing python objects instead of tensors. Also, tf.function has experimental_relax_shapes=True option that relaxes argument shapes that can avoid unnecessary retracing. Please refer to https://www.tensorflow.org/tutorials/customization/performance#python_or_tensor_args and https://www.tensorflow.org/api_docs/python/tf/function for more details.\n"
     ]
    },
    {
     "name": "stdout",
     "output_type": "stream",
     "text": [
      "WARNING:tensorflow:6 out of the last 6 calls to <function Model.make_predict_function.<locals>.predict_function at 0x7ffa6446e430> triggered tf.function retracing. Tracing is expensive and the excessive number of tracings is likely due to passing python objects instead of tensors. Also, tf.function has experimental_relax_shapes=True option that relaxes argument shapes that can avoid unnecessary retracing. Please refer to https://www.tensorflow.org/tutorials/customization/performance#python_or_tensor_args and https://www.tensorflow.org/api_docs/python/tf/function for more details.\n"
     ]
    },
    {
     "name": "stderr",
     "output_type": "stream",
     "text": [
      "WARNING:tensorflow:6 out of the last 6 calls to <function Model.make_predict_function.<locals>.predict_function at 0x7ffa6446e430> triggered tf.function retracing. Tracing is expensive and the excessive number of tracings is likely due to passing python objects instead of tensors. Also, tf.function has experimental_relax_shapes=True option that relaxes argument shapes that can avoid unnecessary retracing. Please refer to https://www.tensorflow.org/tutorials/customization/performance#python_or_tensor_args and https://www.tensorflow.org/api_docs/python/tf/function for more details.\n"
     ]
    },
    {
     "name": "stdout",
     "output_type": "stream",
     "text": [
      "WARNING:tensorflow:7 out of the last 7 calls to <function Model.make_predict_function.<locals>.predict_function at 0x7ffa6446e430> triggered tf.function retracing. Tracing is expensive and the excessive number of tracings is likely due to passing python objects instead of tensors. Also, tf.function has experimental_relax_shapes=True option that relaxes argument shapes that can avoid unnecessary retracing. Please refer to https://www.tensorflow.org/tutorials/customization/performance#python_or_tensor_args and https://www.tensorflow.org/api_docs/python/tf/function for more details.\n"
     ]
    },
    {
     "name": "stderr",
     "output_type": "stream",
     "text": [
      "WARNING:tensorflow:7 out of the last 7 calls to <function Model.make_predict_function.<locals>.predict_function at 0x7ffa6446e430> triggered tf.function retracing. Tracing is expensive and the excessive number of tracings is likely due to passing python objects instead of tensors. Also, tf.function has experimental_relax_shapes=True option that relaxes argument shapes that can avoid unnecessary retracing. Please refer to https://www.tensorflow.org/tutorials/customization/performance#python_or_tensor_args and https://www.tensorflow.org/api_docs/python/tf/function for more details.\n"
     ]
    },
    {
     "name": "stdout",
     "output_type": "stream",
     "text": [
      "WARNING:tensorflow:8 out of the last 8 calls to <function Model.make_predict_function.<locals>.predict_function at 0x7ffa6446e430> triggered tf.function retracing. Tracing is expensive and the excessive number of tracings is likely due to passing python objects instead of tensors. Also, tf.function has experimental_relax_shapes=True option that relaxes argument shapes that can avoid unnecessary retracing. Please refer to https://www.tensorflow.org/tutorials/customization/performance#python_or_tensor_args and https://www.tensorflow.org/api_docs/python/tf/function for more details.\n"
     ]
    },
    {
     "name": "stderr",
     "output_type": "stream",
     "text": [
      "WARNING:tensorflow:8 out of the last 8 calls to <function Model.make_predict_function.<locals>.predict_function at 0x7ffa6446e430> triggered tf.function retracing. Tracing is expensive and the excessive number of tracings is likely due to passing python objects instead of tensors. Also, tf.function has experimental_relax_shapes=True option that relaxes argument shapes that can avoid unnecessary retracing. Please refer to https://www.tensorflow.org/tutorials/customization/performance#python_or_tensor_args and https://www.tensorflow.org/api_docs/python/tf/function for more details.\n",
      "100%|█████████████████████████████████████████| 248/248 [01:49<00:00,  2.26it/s]\n"
     ]
    }
   ],
   "source": [
    "results: List = []\n",
    "\n",
    "for i, fn in tqdm(filenames.items(), total=248):\n",
    "    img = cv2.imread(str(IMAGE_BASE_PATH / fn))\n",
    "    top_pred, top_pred_confidence = detector.top_emotion(img)\n",
    "    \n",
    "    full_results = detector.detect_emotions(img)\n",
    "    if len(full_results) > 0 and 'emotions' in full_results[0]:\n",
    "        full_results = list(full_results[0]['emotions'].values())\n",
    "    \n",
    "    results.append((fn, top_pred, top_pred_confidence, *full_results))"
   ]
  },
  {
   "cell_type": "code",
   "execution_count": 64,
   "id": "operating-worship",
   "metadata": {},
   "outputs": [],
   "source": [
    "results_df = pd.DataFrame(\n",
    "    results, columns=('filename', 'top_emotion', 'top_conf', 'angry', 'disgust', 'fear', 'happy', 'sad', 'surprise', 'neutral'))"
   ]
  },
  {
   "cell_type": "code",
   "execution_count": 67,
   "id": "secure-thomas",
   "metadata": {},
   "outputs": [
    {
     "data": {
      "text/html": [
       "<div>\n",
       "<style scoped>\n",
       "    .dataframe tbody tr th:only-of-type {\n",
       "        vertical-align: middle;\n",
       "    }\n",
       "\n",
       "    .dataframe tbody tr th {\n",
       "        vertical-align: top;\n",
       "    }\n",
       "\n",
       "    .dataframe thead th {\n",
       "        text-align: right;\n",
       "    }\n",
       "</style>\n",
       "<table border=\"1\" class=\"dataframe\">\n",
       "  <thead>\n",
       "    <tr style=\"text-align: right;\">\n",
       "      <th></th>\n",
       "      <th>filename</th>\n",
       "      <th>top_emotion</th>\n",
       "      <th>top_conf</th>\n",
       "      <th>angry</th>\n",
       "      <th>disgust</th>\n",
       "      <th>fear</th>\n",
       "      <th>happy</th>\n",
       "      <th>sad</th>\n",
       "      <th>surprise</th>\n",
       "      <th>neutral</th>\n",
       "    </tr>\n",
       "  </thead>\n",
       "  <tbody>\n",
       "    <tr>\n",
       "      <th>10</th>\n",
       "      <td>5_4.jpg</td>\n",
       "      <td>happy</td>\n",
       "      <td>0.95</td>\n",
       "      <td>0.02</td>\n",
       "      <td>0.0</td>\n",
       "      <td>0.00</td>\n",
       "      <td>0.95</td>\n",
       "      <td>0.03</td>\n",
       "      <td>0.00</td>\n",
       "      <td>0.00</td>\n",
       "    </tr>\n",
       "    <tr>\n",
       "      <th>11</th>\n",
       "      <td>6_0.jpg</td>\n",
       "      <td>happy</td>\n",
       "      <td>0.80</td>\n",
       "      <td>0.02</td>\n",
       "      <td>0.0</td>\n",
       "      <td>0.02</td>\n",
       "      <td>0.80</td>\n",
       "      <td>0.16</td>\n",
       "      <td>0.00</td>\n",
       "      <td>0.01</td>\n",
       "    </tr>\n",
       "    <tr>\n",
       "      <th>12</th>\n",
       "      <td>6_1.jpg</td>\n",
       "      <td>happy</td>\n",
       "      <td>0.68</td>\n",
       "      <td>0.07</td>\n",
       "      <td>0.0</td>\n",
       "      <td>0.06</td>\n",
       "      <td>0.68</td>\n",
       "      <td>0.15</td>\n",
       "      <td>0.01</td>\n",
       "      <td>0.02</td>\n",
       "    </tr>\n",
       "    <tr>\n",
       "      <th>13</th>\n",
       "      <td>6_2.jpg</td>\n",
       "      <td>happy</td>\n",
       "      <td>0.94</td>\n",
       "      <td>0.00</td>\n",
       "      <td>0.0</td>\n",
       "      <td>0.00</td>\n",
       "      <td>0.94</td>\n",
       "      <td>0.00</td>\n",
       "      <td>0.00</td>\n",
       "      <td>0.06</td>\n",
       "    </tr>\n",
       "    <tr>\n",
       "      <th>14</th>\n",
       "      <td>7_0.jpg</td>\n",
       "      <td>happy</td>\n",
       "      <td>0.94</td>\n",
       "      <td>0.01</td>\n",
       "      <td>0.0</td>\n",
       "      <td>0.01</td>\n",
       "      <td>0.94</td>\n",
       "      <td>0.02</td>\n",
       "      <td>0.02</td>\n",
       "      <td>0.01</td>\n",
       "    </tr>\n",
       "    <tr>\n",
       "      <th>15</th>\n",
       "      <td>8_0.jpg</td>\n",
       "      <td>happy</td>\n",
       "      <td>0.96</td>\n",
       "      <td>0.00</td>\n",
       "      <td>0.0</td>\n",
       "      <td>0.00</td>\n",
       "      <td>0.96</td>\n",
       "      <td>0.00</td>\n",
       "      <td>0.00</td>\n",
       "      <td>0.03</td>\n",
       "    </tr>\n",
       "    <tr>\n",
       "      <th>16</th>\n",
       "      <td>9_0.jpg</td>\n",
       "      <td>neutral</td>\n",
       "      <td>0.44</td>\n",
       "      <td>0.07</td>\n",
       "      <td>0.0</td>\n",
       "      <td>0.02</td>\n",
       "      <td>0.42</td>\n",
       "      <td>0.06</td>\n",
       "      <td>0.00</td>\n",
       "      <td>0.44</td>\n",
       "    </tr>\n",
       "    <tr>\n",
       "      <th>17</th>\n",
       "      <td>9_1.jpg</td>\n",
       "      <td>None</td>\n",
       "      <td>NaN</td>\n",
       "      <td>NaN</td>\n",
       "      <td>NaN</td>\n",
       "      <td>NaN</td>\n",
       "      <td>NaN</td>\n",
       "      <td>NaN</td>\n",
       "      <td>NaN</td>\n",
       "      <td>NaN</td>\n",
       "    </tr>\n",
       "    <tr>\n",
       "      <th>18</th>\n",
       "      <td>10_0.jpg</td>\n",
       "      <td>happy</td>\n",
       "      <td>0.99</td>\n",
       "      <td>0.00</td>\n",
       "      <td>0.0</td>\n",
       "      <td>0.00</td>\n",
       "      <td>0.99</td>\n",
       "      <td>0.00</td>\n",
       "      <td>0.00</td>\n",
       "      <td>0.01</td>\n",
       "    </tr>\n",
       "    <tr>\n",
       "      <th>19</th>\n",
       "      <td>10_1.jpg</td>\n",
       "      <td>None</td>\n",
       "      <td>NaN</td>\n",
       "      <td>NaN</td>\n",
       "      <td>NaN</td>\n",
       "      <td>NaN</td>\n",
       "      <td>NaN</td>\n",
       "      <td>NaN</td>\n",
       "      <td>NaN</td>\n",
       "      <td>NaN</td>\n",
       "    </tr>\n",
       "    <tr>\n",
       "      <th>20</th>\n",
       "      <td>11_0.jpg</td>\n",
       "      <td>happy</td>\n",
       "      <td>1.00</td>\n",
       "      <td>0.00</td>\n",
       "      <td>0.0</td>\n",
       "      <td>0.00</td>\n",
       "      <td>1.00</td>\n",
       "      <td>0.00</td>\n",
       "      <td>0.00</td>\n",
       "      <td>0.00</td>\n",
       "    </tr>\n",
       "    <tr>\n",
       "      <th>21</th>\n",
       "      <td>13_0.jpg</td>\n",
       "      <td>angry</td>\n",
       "      <td>0.48</td>\n",
       "      <td>0.48</td>\n",
       "      <td>0.0</td>\n",
       "      <td>0.12</td>\n",
       "      <td>0.15</td>\n",
       "      <td>0.01</td>\n",
       "      <td>0.20</td>\n",
       "      <td>0.04</td>\n",
       "    </tr>\n",
       "    <tr>\n",
       "      <th>22</th>\n",
       "      <td>14_0.jpg</td>\n",
       "      <td>happy</td>\n",
       "      <td>0.46</td>\n",
       "      <td>0.03</td>\n",
       "      <td>0.0</td>\n",
       "      <td>0.03</td>\n",
       "      <td>0.46</td>\n",
       "      <td>0.05</td>\n",
       "      <td>0.01</td>\n",
       "      <td>0.43</td>\n",
       "    </tr>\n",
       "    <tr>\n",
       "      <th>23</th>\n",
       "      <td>15_0.jpg</td>\n",
       "      <td>None</td>\n",
       "      <td>NaN</td>\n",
       "      <td>NaN</td>\n",
       "      <td>NaN</td>\n",
       "      <td>NaN</td>\n",
       "      <td>NaN</td>\n",
       "      <td>NaN</td>\n",
       "      <td>NaN</td>\n",
       "      <td>NaN</td>\n",
       "    </tr>\n",
       "    <tr>\n",
       "      <th>24</th>\n",
       "      <td>16_0.jpg</td>\n",
       "      <td>happy</td>\n",
       "      <td>1.00</td>\n",
       "      <td>0.00</td>\n",
       "      <td>0.0</td>\n",
       "      <td>0.00</td>\n",
       "      <td>1.00</td>\n",
       "      <td>0.00</td>\n",
       "      <td>0.00</td>\n",
       "      <td>0.00</td>\n",
       "    </tr>\n",
       "  </tbody>\n",
       "</table>\n",
       "</div>"
      ],
      "text/plain": [
       "    filename top_emotion  top_conf  angry  disgust  fear  happy   sad  \\\n",
       "10   5_4.jpg       happy      0.95   0.02      0.0  0.00   0.95  0.03   \n",
       "11   6_0.jpg       happy      0.80   0.02      0.0  0.02   0.80  0.16   \n",
       "12   6_1.jpg       happy      0.68   0.07      0.0  0.06   0.68  0.15   \n",
       "13   6_2.jpg       happy      0.94   0.00      0.0  0.00   0.94  0.00   \n",
       "14   7_0.jpg       happy      0.94   0.01      0.0  0.01   0.94  0.02   \n",
       "15   8_0.jpg       happy      0.96   0.00      0.0  0.00   0.96  0.00   \n",
       "16   9_0.jpg     neutral      0.44   0.07      0.0  0.02   0.42  0.06   \n",
       "17   9_1.jpg        None       NaN    NaN      NaN   NaN    NaN   NaN   \n",
       "18  10_0.jpg       happy      0.99   0.00      0.0  0.00   0.99  0.00   \n",
       "19  10_1.jpg        None       NaN    NaN      NaN   NaN    NaN   NaN   \n",
       "20  11_0.jpg       happy      1.00   0.00      0.0  0.00   1.00  0.00   \n",
       "21  13_0.jpg       angry      0.48   0.48      0.0  0.12   0.15  0.01   \n",
       "22  14_0.jpg       happy      0.46   0.03      0.0  0.03   0.46  0.05   \n",
       "23  15_0.jpg        None       NaN    NaN      NaN   NaN    NaN   NaN   \n",
       "24  16_0.jpg       happy      1.00   0.00      0.0  0.00   1.00  0.00   \n",
       "\n",
       "    surprise  neutral  \n",
       "10      0.00     0.00  \n",
       "11      0.00     0.01  \n",
       "12      0.01     0.02  \n",
       "13      0.00     0.06  \n",
       "14      0.02     0.01  \n",
       "15      0.00     0.03  \n",
       "16      0.00     0.44  \n",
       "17       NaN      NaN  \n",
       "18      0.00     0.01  \n",
       "19       NaN      NaN  \n",
       "20      0.00     0.00  \n",
       "21      0.20     0.04  \n",
       "22      0.01     0.43  \n",
       "23       NaN      NaN  \n",
       "24      0.00     0.00  "
      ]
     },
     "execution_count": 67,
     "metadata": {},
     "output_type": "execute_result"
    }
   ],
   "source": [
    "results_df.iloc[10:25]"
   ]
  },
  {
   "cell_type": "code",
   "execution_count": 68,
   "id": "cardiac-penalty",
   "metadata": {},
   "outputs": [],
   "source": [
    "results_df.to_csv('../results/fer_2013_results.csv')"
   ]
  },
  {
   "cell_type": "code",
   "execution_count": null,
   "id": "prescribed-guinea",
   "metadata": {},
   "outputs": [],
   "source": []
  }
 ],
 "metadata": {
  "kernelspec": {
   "display_name": "venv",
   "language": "python",
   "name": "venv"
  },
  "language_info": {
   "codemirror_mode": {
    "name": "ipython",
    "version": 3
   },
   "file_extension": ".py",
   "mimetype": "text/x-python",
   "name": "python",
   "nbconvert_exporter": "python",
   "pygments_lexer": "ipython3",
   "version": "3.8.10"
  }
 },
 "nbformat": 4,
 "nbformat_minor": 5
}
